{
 "cells": [
  {
   "cell_type": "code",
   "execution_count": null,
   "metadata": {},
   "outputs": [],
   "source": [
    "import os\n",
    "import numpy as np\n",
    "import pandas as pd\n",
    "\n",
    "from joblib                import dump\n",
    "from sklearn.impute        import SimpleImputer\n",
    "from sklearn.linear_model  import LogisticRegressionCV, LogisticRegression\n",
    "from sklearn.preprocessing import StandardScaler"
   ]
  },
  {
   "cell_type": "code",
   "execution_count": null,
   "metadata": {},
   "outputs": [],
   "source": [
    "disease_codes = {'diabetes': 'HC221','renal_failure': 'HC294','gout': 'HC328','myocardial_infarction': 'HC326',\n",
    "                 'asthma' : 'HC382','gall_stones': 'HC188','ulcerative_colitis': 'HC201','peripheral_vascular_disease': 'HC385',\n",
    "                 'atrial_flutter': 'HC440','osteoarthritis': 'HC376','arthritis_(nos)': 'HC78','TTE_cystitis': 'HC1313',\n",
    "                 'TTE_chronic_renal_failure': 'HC1302','TTE_psoriasis': 'HC1159','TTE_cellulitis': 'HC1139','TTE_cholelithiasis': 'HC1125',\n",
    "                 'glaucoma': 'HC276','Blood_clot_or_DVT_diagnosed_by_doctor': 'BIN_FC11006152','skin_cancer': 'cancer1003'}"
   ]
  },
  {
   "cell_type": "markdown",
   "metadata": {},
   "source": [
    "## Load data"
   ]
  },
  {
   "cell_type": "code",
   "execution_count": null,
   "metadata": {},
   "outputs": [],
   "source": [
    "%%time\n",
    "\n",
    "meta  = pd.read_csv('data/meta.csv')\n",
    "prs   = pd.read_csv('data/prs.csv')\n",
    "pheno = pd.read_csv('data/pheno.csv')"
   ]
  },
  {
   "cell_type": "markdown",
   "metadata": {},
   "source": [
    "## Only have one column to split the data"
   ]
  },
  {
   "cell_type": "code",
   "execution_count": null,
   "metadata": {},
   "outputs": [],
   "source": [
    "prs['final_split']   = prs.split_nonWB.fillna(prs.split)\n",
    "pheno['final_split'] = pheno.split_nonWB.fillna(prs.split)"
   ]
  },
  {
   "cell_type": "code",
   "execution_count": null,
   "metadata": {},
   "outputs": [],
   "source": [
    "prs = prs.drop([f\"Global_PC{i+1}\" for i in range(40)], axis=1)\n",
    "prs = prs.drop([f\"PC{i+1}\" for i in range(40)], axis=1)\n",
    "prs = prs.drop(['split_nonWB','IID','population','age','age0','age1','age2','age3','sex','BMI','N_CNV','LEN_CNV','Array'], axis=1)"
   ]
  },
  {
   "cell_type": "code",
   "execution_count": null,
   "metadata": {},
   "outputs": [],
   "source": [
    "diseases = list(disease_codes.values())"
   ]
  },
  {
   "cell_type": "markdown",
   "metadata": {},
   "source": [
    "# Fit WB models"
   ]
  },
  {
   "cell_type": "code",
   "execution_count": null,
   "metadata": {},
   "outputs": [],
   "source": [
    "def cv_train_model(X_train, y_train):\n",
    "    \n",
    "    cv = LogisticRegressionCV(\n",
    "        Cs=5, \n",
    "        penalty='l1', \n",
    "        cv=2,\n",
    "        class_weight='balanced', \n",
    "        solver='saga', \n",
    "        verbose=1,\n",
    "        max_iter=300\n",
    "    )\n",
    "    \n",
    "    cv.fit(X_train, y_train)\n",
    "            \n",
    "    model = LogisticRegression(\n",
    "        penalty='l1', \n",
    "        class_weight='balanced', \n",
    "        C=cv.C_[0],\n",
    "        solver='saga', \n",
    "        verbose=0,\n",
    "        max_iter=300\n",
    "    )\n",
    "\n",
    "    model.fit(X_train, y_train)\n",
    "\n",
    "    return model"
   ]
  },
  {
   "cell_type": "code",
   "execution_count": null,
   "metadata": {},
   "outputs": [],
   "source": [
    "def mean_fill_and_scale(df):\n",
    "    \n",
    "    imp    = SimpleImputer(missing_values=np.nan, strategy='mean')\n",
    "    scaler = StandardScaler()    \n",
    "    columns = df.columns\n",
    "\n",
    "    df = imp.fit_transform(df)\n",
    "    df = scaler.fit_transform(df)\n",
    "    df = pd.DataFrame(df, columns=columns)\n",
    "\n",
    "    return df"
   ]
  },
  {
   "cell_type": "markdown",
   "metadata": {},
   "source": [
    "## Fit models"
   ]
  },
  {
   "cell_type": "code",
   "execution_count": null,
   "metadata": {},
   "outputs": [],
   "source": [
    "def fit_and_save_models(model_dir_path, population, disease_list, prs, meta, pheno):\n",
    "    \"\"\"\n",
    "    Fit models for each disease and save the model if not already exists.\n",
    "    \n",
    "    Parameters:\n",
    "    - model_dir_path (str): Directory path for saving/loading the models.\n",
    "    - population (str): Population type.\n",
    "    - disease_list (list): List of diseases.\n",
    "    - prs (DataFrame): DataFrame containing PRS data.\n",
    "    - meta (DataFrame): Metadata.\n",
    "    - pheno (DataFrame): Phenotype data.\n",
    "    \"\"\"\n",
    "    \n",
    "    for disease in disease_list:\n",
    "        model_path = os.path.join(model_dir_path, disease + '.joblib')\n",
    "\n",
    "        if os.path.isfile(model_path):\n",
    "            print('Already fitted model for disease ' + disease)\n",
    "        else:\n",
    "            print('Fitting model for disease ' + disease)\n",
    "\n",
    "            y = pheno[pheno.population == population]\n",
    "            y_train = y[y.final_split == 'train'][disease]\n",
    "\n",
    "            # Check to use PRS data or not\n",
    "            if prs is not None:\n",
    "                X = prs[['PRS_' + disease, 'final_split']].join(meta, how='inner')\n",
    "                print('Using PRS data')\n",
    "            else:\n",
    "                X = prs[['final_split']].join(meta, how='inner')\n",
    "                \n",
    "            X = X[X.population == population]\n",
    "            X = X.drop(['IID', 'population', 'age0', 'age1', 'age2', 'age3'], axis=1)\n",
    "\n",
    "            X_train = X[X.final_split == 'train'].drop(['final_split', 'split'], axis=1)  \n",
    "            X_train = mean_fill_and_scale(X_train)\n",
    "\n",
    "            print('Started to fit model')\n",
    "            model = cv_train_model(X_train, y_train) \n",
    "            print('Fitted model')\n",
    "            dump(model, model_path)"
   ]
  },
  {
   "cell_type": "code",
   "execution_count": null,
   "metadata": {},
   "outputs": [],
   "source": [
    "%%time\n",
    "\n",
    "fit_and_save_models('models/log_reg/WB_with_PRS/', 'white_british', diseases, prs, meta, pheno)"
   ]
  }
 ],
 "metadata": {
  "kernelspec": {
   "display_name": "Python 3 (ipykernel)",
   "language": "python",
   "name": "python3"
  },
  "language_info": {
   "codemirror_mode": {
    "name": "ipython",
    "version": 3
   },
   "file_extension": ".py",
   "mimetype": "text/x-python",
   "name": "python",
   "nbconvert_exporter": "python",
   "pygments_lexer": "ipython3",
   "version": "3.11.5"
  }
 },
 "nbformat": 4,
 "nbformat_minor": 4
}
